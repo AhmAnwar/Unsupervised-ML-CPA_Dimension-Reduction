{
 "cells": [
  {
   "cell_type": "markdown",
   "id": "18695447",
   "metadata": {
    "id": "kilShskI9cMP",
    "papermill": {
     "duration": 0.00367,
     "end_time": "2023-12-04T09:05:10.111672",
     "exception": false,
     "start_time": "2023-12-04T09:05:10.108002",
     "status": "completed"
    },
    "tags": []
   },
   "source": [
    "# Import Libraries"
   ]
  },
  {
   "cell_type": "code",
   "execution_count": 1,
   "id": "4e009ac9",
   "metadata": {
    "execution": {
     "iopub.execute_input": "2023-12-04T09:05:10.126838Z",
     "iopub.status.busy": "2023-12-04T09:05:10.125983Z",
     "iopub.status.idle": "2023-12-04T09:05:11.655010Z",
     "shell.execute_reply": "2023-12-04T09:05:11.653789Z"
    },
    "id": "Oa4HUK8g9k2y",
    "papermill": {
     "duration": 1.541486,
     "end_time": "2023-12-04T09:05:11.657705",
     "exception": false,
     "start_time": "2023-12-04T09:05:10.116219",
     "status": "completed"
    },
    "tags": []
   },
   "outputs": [],
   "source": [
    "import numpy as np\n",
    "from sklearn.decomposition import PCA"
   ]
  },
  {
   "cell_type": "markdown",
   "id": "2848b652",
   "metadata": {
    "id": "xpC3YTaL92Kl",
    "papermill": {
     "duration": 0.002567,
     "end_time": "2023-12-04T09:05:11.663251",
     "exception": false,
     "start_time": "2023-12-04T09:05:11.660684",
     "status": "completed"
    },
    "tags": []
   },
   "source": [
    "# Create Dataset"
   ]
  },
  {
   "cell_type": "code",
   "execution_count": 2,
   "id": "d9f34558",
   "metadata": {
    "execution": {
     "iopub.execute_input": "2023-12-04T09:05:11.671417Z",
     "iopub.status.busy": "2023-12-04T09:05:11.670131Z",
     "iopub.status.idle": "2023-12-04T09:05:11.675371Z",
     "shell.execute_reply": "2023-12-04T09:05:11.674501Z"
    },
    "id": "Q0L43Cpz96pa",
    "papermill": {
     "duration": 0.011821,
     "end_time": "2023-12-04T09:05:11.677811",
     "exception": false,
     "start_time": "2023-12-04T09:05:11.665990",
     "status": "completed"
    },
    "tags": []
   },
   "outputs": [],
   "source": [
    "dataset = np.random.rand(100, 3)"
   ]
  },
  {
   "cell_type": "code",
   "execution_count": 3,
   "id": "1d6b24b3",
   "metadata": {
    "execution": {
     "iopub.execute_input": "2023-12-04T09:05:11.685821Z",
     "iopub.status.busy": "2023-12-04T09:05:11.685388Z",
     "iopub.status.idle": "2023-12-04T09:05:11.694597Z",
     "shell.execute_reply": "2023-12-04T09:05:11.693434Z"
    },
    "id": "YcRcH_VX-AJi",
    "outputId": "d2faea6e-a1f5-438b-ec8d-1772efe15749",
    "papermill": {
     "duration": 0.016118,
     "end_time": "2023-12-04T09:05:11.696981",
     "exception": false,
     "start_time": "2023-12-04T09:05:11.680863",
     "status": "completed"
    },
    "tags": []
   },
   "outputs": [
    {
     "data": {
      "text/plain": [
       "array([[0.26288704, 0.05618879, 0.93630723],\n",
       "       [0.78911936, 0.35736774, 0.33150226],\n",
       "       [0.11823624, 0.93880888, 0.15183366],\n",
       "       [0.44761201, 0.55397788, 0.54648251]])"
      ]
     },
     "execution_count": 3,
     "metadata": {},
     "output_type": "execute_result"
    }
   ],
   "source": [
    "dataset[:4,:]"
   ]
  },
  {
   "cell_type": "markdown",
   "id": "c74324a6",
   "metadata": {
    "id": "2zylHo4g-Qeh",
    "papermill": {
     "duration": 0.002854,
     "end_time": "2023-12-04T09:05:11.702963",
     "exception": false,
     "start_time": "2023-12-04T09:05:11.700109",
     "status": "completed"
    },
    "tags": []
   },
   "source": [
    "# Build model"
   ]
  },
  {
   "cell_type": "code",
   "execution_count": 4,
   "id": "e43e29a7",
   "metadata": {
    "execution": {
     "iopub.execute_input": "2023-12-04T09:05:11.710775Z",
     "iopub.status.busy": "2023-12-04T09:05:11.710397Z",
     "iopub.status.idle": "2023-12-04T09:05:11.715179Z",
     "shell.execute_reply": "2023-12-04T09:05:11.713892Z"
    },
    "id": "8XDLl7te-TNy",
    "papermill": {
     "duration": 0.011208,
     "end_time": "2023-12-04T09:05:11.717349",
     "exception": false,
     "start_time": "2023-12-04T09:05:11.706141",
     "status": "completed"
    },
    "tags": []
   },
   "outputs": [],
   "source": [
    "# build a model named 'pca_model'.\n",
    "pca_model = PCA(n_components=2)"
   ]
  },
  {
   "cell_type": "code",
   "execution_count": 5,
   "id": "e72876e5",
   "metadata": {
    "execution": {
     "iopub.execute_input": "2023-12-04T09:05:11.725802Z",
     "iopub.status.busy": "2023-12-04T09:05:11.725407Z",
     "iopub.status.idle": "2023-12-04T09:05:11.744350Z",
     "shell.execute_reply": "2023-12-04T09:05:11.743036Z"
    },
    "id": "NAifH9KV-lHq",
    "papermill": {
     "duration": 0.025447,
     "end_time": "2023-12-04T09:05:11.746477",
     "exception": false,
     "start_time": "2023-12-04T09:05:11.721030",
     "status": "completed"
    },
    "tags": []
   },
   "outputs": [],
   "source": [
    "# fit the model with data and save the output data i variable 'dataset_trans'.\n",
    "dataset_trans = pca_model.fit_transform(dataset)"
   ]
  },
  {
   "cell_type": "code",
   "execution_count": 6,
   "id": "07ab744b",
   "metadata": {
    "execution": {
     "iopub.execute_input": "2023-12-04T09:05:11.754624Z",
     "iopub.status.busy": "2023-12-04T09:05:11.753921Z",
     "iopub.status.idle": "2023-12-04T09:05:11.760538Z",
     "shell.execute_reply": "2023-12-04T09:05:11.759401Z"
    },
    "id": "thiCiUJE-zHL",
    "outputId": "ef35e255-0d99-4042-c145-6515a1784330",
    "papermill": {
     "duration": 0.013425,
     "end_time": "2023-12-04T09:05:11.763042",
     "exception": false,
     "start_time": "2023-12-04T09:05:11.749617",
     "status": "completed"
    },
    "tags": []
   },
   "outputs": [
    {
     "data": {
      "text/plain": [
       "array([[ 0.18981345, -0.52877412],\n",
       "       [-0.28244277, -0.07820736],\n",
       "       [ 0.05094759,  0.64616514],\n",
       "       [ 0.08428356,  0.03601312]])"
      ]
     },
     "execution_count": 6,
     "metadata": {},
     "output_type": "execute_result"
    }
   ],
   "source": [
    "dataset_trans[:4, :]"
   ]
  }
 ],
 "metadata": {
  "colab": {
   "provenance": []
  },
  "kaggle": {
   "accelerator": "none",
   "dataSources": [],
   "dockerImageVersionId": 30587,
   "isGpuEnabled": false,
   "isInternetEnabled": true,
   "language": "python",
   "sourceType": "notebook"
  },
  "kernelspec": {
   "display_name": "Python 3",
   "language": "python",
   "name": "python3"
  },
  "language_info": {
   "codemirror_mode": {
    "name": "ipython",
    "version": 3
   },
   "file_extension": ".py",
   "mimetype": "text/x-python",
   "name": "python",
   "nbconvert_exporter": "python",
   "pygments_lexer": "ipython3",
   "version": "3.10.12"
  },
  "papermill": {
   "default_parameters": {},
   "duration": 5.383076,
   "end_time": "2023-12-04T09:05:12.287888",
   "environment_variables": {},
   "exception": null,
   "input_path": "__notebook__.ipynb",
   "output_path": "__notebook__.ipynb",
   "parameters": {},
   "start_time": "2023-12-04T09:05:06.904812",
   "version": "2.4.0"
  }
 },
 "nbformat": 4,
 "nbformat_minor": 5
}
